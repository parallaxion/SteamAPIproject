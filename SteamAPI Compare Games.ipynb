{
 "cells": [
  {
   "cell_type": "code",
   "execution_count": 3,
   "metadata": {},
   "outputs": [
    {
     "name": "stdout",
     "output_type": "stream",
     "text": [
      "\n"
     ]
    }
   ],
   "source": [
    "import math\n",
    "import sys\n",
    "import requests\n",
    "import json\n",
    "import apikey\n",
    "import pandas as pd\n",
    "import numpy as np\n",
    "import matplotlib.pyplot as plt\n",
    "import time\n",
    "\n",
    "apikey = apikey.apikey\n",
    "steamUserID = input()\n",
    "if steamUserID == '':\n",
    "    steamUserID = '76561197963833067' #me\n",
    "    #steamUserID = '76561197960297139' #qualor"
   ]
  },
  {
   "cell_type": "code",
   "execution_count": null,
   "metadata": {},
   "outputs": [],
   "source": []
  },
  {
   "cell_type": "code",
   "execution_count": 58,
   "metadata": {},
   "outputs": [
    {
     "name": "stdout",
     "output_type": "stream",
     "text": [
      "<class 'list'>\n",
      "240\n",
      "207\n",
      "75\n",
      "7 Days to Die\n",
      "Alien: Isolation\n",
      "Aliens vs. Predator\n",
      "BATTLETECH\n",
      "Borderlands 2\n",
      "Broforce\n",
      "Cities: Skylines\n",
      "Company of Heroes \n",
      "Company of Heroes: Tales of Valor\n",
      "Contagion\n",
      "Counter-Strike\n",
      "Counter-Strike: Global Offensive\n",
      "Counter-Strike: Source\n",
      "DOOM\n",
      "DOOM 3: BFG Edition\n",
      "Day of Defeat\n",
      "Deathmatch Classic\n",
      "Drox Operative\n",
      "Dying Light\n",
      "FTL: Faster Than Light\n",
      "Fallout 2\n",
      "Fallout 4\n",
      "Fallout Tactics\n",
      "Fallout: New Vegas\n",
      "Foxhole\n",
      "Galactic Civilizations II: Ultimate Edition\n",
      "Grand Theft Auto V\n",
      "HELLDIVERS™\n",
      "Half-Life\n",
      "Half-Life 2: Deathmatch\n",
      "Half-Life 2: Lost Coast\n",
      "Half-Life: Blue Shift\n",
      "Half-Life: Opposing Force\n",
      "Left 4 Dead 2\n",
      "Lunar Flight\n",
      "MechWarrior Online\n",
      "Mordheim: City of the Damned\n",
      "No Man's Sky\n",
      "PLAYERUNKNOWN'S BATTLEGROUNDS\n",
      "PULSAR: Lost Colony\n",
      "Path of Exile\n",
      "Project Zomboid\n",
      "Renegade Ops\n",
      "Ricochet\n",
      "Sid Meier's Civilization V\n",
      "Space Hulk\n",
      "Space Hulk: Deathwing\n",
      "Space Hulk: Deathwing - Enhanced Edition\n",
      "Tabletop Simulator\n",
      "Talisman: Digital Edition\n",
      "Team Fortress Classic\n",
      "Terraria\n",
      "The Culling\n",
      "Tom Clancy's Ghost Recon Phantoms - NA\n",
      "Tom Clancy's The Division\n",
      "Tom Clancy's The Division PTS\n",
      "Total War: ROME II - Emperor Edition\n",
      "Total War: WARHAMMER\n",
      "Trine 2\n",
      "Trove\n",
      "Warframe\n",
      "Wargame: AirLand Battle\n",
      "Warhammer 40,000: Dawn of War - Dark Crusade\n",
      "Warhammer 40,000: Dawn of War - Game of the Year Edition\n",
      "Warhammer 40,000: Dawn of War - Soulstorm\n",
      "Warhammer 40,000: Dawn of War II\n",
      "Warhammer 40,000: Dawn of War II - Chaos Rising\n",
      "Warhammer 40,000: Dawn of War II - Retribution\n",
      "Warhammer 40,000: Dawn of War III\n",
      "Warhammer 40,000: Eternal Crusade\n",
      "Warhammer 40,000: Space Marine\n",
      "Warhammer: End Times - Vermintide\n",
      "Warhammer: Vermintide 2\n",
      "Warhammer: Vermintide 2 Closed Test\n",
      "XCOM 2\n"
     ]
    }
   ],
   "source": [
    "myRequest = requests.get(f'http://api.steampowered.com/IPlayerService/GetOwnedGames/v0001/?key={apikey}&steamid={76561197963833067}&format=json&include_appinfo=1')\n",
    "myGames = myRequest.json()\n",
    "myGames = myGames['response']['games']\n",
    "#print(type(myGames[0]))\n",
    "#print(myGames[0])\n",
    "myGamesList = []\n",
    "for x in myGames:\n",
    "    #print(x['name'])\n",
    "    myGamesList.append(x['name'])\n",
    "    \n",
    "\n",
    "theirRequest = requests.get(f'http://api.steampowered.com/IPlayerService/GetOwnedGames/v0001/?key={apikey}&steamid={76561197960297139}&format=json&include_appinfo=1')\n",
    "theirGames = theirRequest.json()\n",
    "theirGames = theirGames['response']['games']\n",
    "print(type(theirGames))\n",
    "theirGamesList = []\n",
    "for x in theirGames:\n",
    "    #print(x['name'])\n",
    "    theirGamesList.append(x['name'])\n",
    "\n",
    "print(len(myGamesList))\n",
    "print(len(theirGamesList))\n",
    "set(myGamesList).intersection()\n",
    "sharedGames = set(theirGamesList) & set(myGamesList)\n",
    "print(len(sharedGames))\n",
    "for x in sorted(sharedGames):\n",
    "    print(x)"
   ]
  },
  {
   "cell_type": "code",
   "execution_count": 14,
   "metadata": {},
   "outputs": [
    {
     "name": "stdout",
     "output_type": "stream",
     "text": [
      "<class 'str'>\n"
     ]
    }
   ],
   "source": [
    "print(type(tg))"
   ]
  },
  {
   "cell_type": "code",
   "execution_count": null,
   "metadata": {},
   "outputs": [
    {
     "name": "stdout",
     "output_type": "stream",
     "text": [
      "Salvag3\n",
      "76561197960297139\n",
      "ShagNasty\n",
      "76561197962037999\n",
      "Vargoth\n",
      "76561197963680802\n"
     ]
    }
   ],
   "source": [
    "#look at all my friends (by id)\n",
    "r1 = requests.get(f'http://api.steampowered.com/ISteamUser/GetFriendList/v0001/?key={apikey}&steamid={steamUserID}&relationship=friend')\n",
    "friends = r1.json()\n",
    "\n",
    "ii = 0\n",
    "px = []\n",
    "py = []\n",
    "\n",
    "for z in friends['friendslist']['friends']:\n",
    "    thisID = z['steamid']\n",
    "    \n",
    "    r3 = requests.get(f'https://api.steampowered.com/ISteamUser/GetPlayerSummaries/v2/?key={apikey}&format=json&steamids={thisID}')\n",
    "    data3 = r3.json()\n",
    "    print(data3['response']['players'][0]['personaname'])\n",
    "    print(thisID)\n",
    "    user = data3['response']['players'][0]['personaname']\n",
    "\n",
    "\n"
   ]
  },
  {
   "cell_type": "code",
   "execution_count": null,
   "metadata": {},
   "outputs": [],
   "source": [
    "\n",
    "for z in friends['friendslist']['friends']:\n",
    "    thisID = z['steamid']\n",
    "    \n",
    "    r3 = requests.get(f'https://api.steampowered.com/ISteamUser/GetPlayerSummaries/v2/?key={apikey}&format=json&steamids={thisID}')\n",
    "    data3 = r3.json()\n",
    "    print(data3['response']['players'][0]['personaname'])\n",
    "    user = data3['response']['players'][0]['personaname']\n",
    "    \n",
    "    r2 = requests.get(f'http://api.steampowered.com/IPlayerService/GetOwnedGames/v0001/?key={apikey}&steamid={thisID}&format=json&include_appinfo=1')\n",
    "    #print(f'http://api.steampowered.com/IPlayerService/GetOwnedGames/v0001/?key={apikey}&steamid={thisID}&format=json&include_appinfo=1')\n",
    "    data2 = r2.json()\n",
    "    \n",
    "    with open(f\"{user}.txt\", \"w\") as f:\n",
    "        f.write(json.dumps(data2))\n",
    "    time.sleep(1)\n",
    "    f.close()\n",
    "    \n",
    "    #print(data2)\n",
    "    y = {}\n",
    "    try:\n",
    "        for x in data2['response']['games']:\n",
    "            y[x['name']] = x['playtime_forever']\n",
    "            #print(f\"{x['name']} :: {x['playtime_forever']}\")\n",
    "            dat = pd.DataFrame(data2['response']['games'])\n",
    "\n",
    "        gameplay = dat[['name','playtime_forever']]\n",
    "        gameplay.columns = ['Game','Play Hours']\n",
    "        gameplay1 = pd.DataFrame(gameplay)\n",
    "        print(gameplay1.mean()['Play Hours'])\n",
    "        playtime = gameplay1.mean()['Play Hours']\n",
    "\n",
    "        px.append(user)\n",
    "        py.append(playtime)\n",
    "    except:\n",
    "        print(' ---no public?')\n",
    "\n",
    "    if (ii > 2):\n",
    "        print(\"done\")\n",
    "        break \n",
    "    ii = ii +1\n",
    "    playtimes = pd.DataFrame(px, py)"
   ]
  },
  {
   "cell_type": "code",
   "execution_count": null,
   "metadata": {},
   "outputs": [],
   "source": [
    "\n",
    "\n",
    "playtimes = playtimes.reset_index()\n",
    "playtimes.columns = ['time', 'user']\n",
    "playtimes = pd.DataFrame(playtimes[['user','time']])\n",
    "playtimes = playtimes.round(0)\n",
    "playtimes = playtimes.sort_values(by='time', ascending=False)\n",
    "\n",
    "playtimes.to_html()\n",
    "\n"
   ]
  },
  {
   "cell_type": "code",
   "execution_count": null,
   "metadata": {},
   "outputs": [],
   "source": [
    "\n",
    "playtimes = playtimes[['time', 'user']].sort_values(by='time', ascending=False)\n",
    "playtimes =  playtimes.reset_index()\n",
    "playtimes.drop('index')\n",
    "playtimes"
   ]
  },
  {
   "cell_type": "code",
   "execution_count": null,
   "metadata": {},
   "outputs": [],
   "source": []
  },
  {
   "cell_type": "code",
   "execution_count": null,
   "metadata": {},
   "outputs": [],
   "source": [
    "gameplay.sort_values('Play Hours', ascending=False)"
   ]
  },
  {
   "cell_type": "code",
   "execution_count": null,
   "metadata": {},
   "outputs": [],
   "source": []
  }
 ],
 "metadata": {
  "kernelspec": {
   "display_name": "Python 3",
   "language": "python",
   "name": "python3"
  },
  "language_info": {
   "codemirror_mode": {
    "name": "ipython",
    "version": 3
   },
   "file_extension": ".py",
   "mimetype": "text/x-python",
   "name": "python",
   "nbconvert_exporter": "python",
   "pygments_lexer": "ipython3",
   "version": "3.7.0"
  }
 },
 "nbformat": 4,
 "nbformat_minor": 2
}
