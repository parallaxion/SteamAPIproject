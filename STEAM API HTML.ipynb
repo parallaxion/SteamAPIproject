{
 "cells": [
  {
   "cell_type": "code",
   "execution_count": 1,
   "metadata": {},
   "outputs": [],
   "source": [
    "import math\n",
    "import sys\n",
    "import requests\n",
    "import json\n",
    "import apikey\n",
    "import pandas as pd\n",
    "import numpy as np\n",
    "import matplotlib.pyplot as plt\n",
    "import time\n"
   ]
  },
  {
   "cell_type": "code",
   "execution_count": 2,
   "metadata": {},
   "outputs": [
    {
     "name": "stdout",
     "output_type": "stream",
     "text": [
      "\n"
     ]
    }
   ],
   "source": [
    "apikey = apikey.apikey\n",
    "steamUserID = input()\n",
    "if steamUserID == '':\n",
    "    steamUserID = '76561197963833067' #me\n",
    "    #steamUserID = '76561197960297139' #qualor\n",
    "    \n",
    "    \n",
    "\n"
   ]
  },
  {
   "cell_type": "code",
   "execution_count": 3,
   "metadata": {},
   "outputs": [],
   "source": [
    "#look at all my friends (by id)\n",
    "r1 = requests.get(f'http://api.steampowered.com/ISteamUser/GetFriendList/v0001/?key={apikey}&steamid={steamUserID}&relationship=friend')\n",
    "friends = r1.json()\n"
   ]
  },
  {
   "cell_type": "code",
   "execution_count": null,
   "metadata": {},
   "outputs": [],
   "source": []
  },
  {
   "cell_type": "code",
   "execution_count": 4,
   "metadata": {},
   "outputs": [
    {
     "name": "stdout",
     "output_type": "stream",
     "text": [
      "Salvag3\n",
      "4100.83574879227\n",
      "ShagNasty\n",
      "624.134\n",
      "Vargoth\n",
      "1852.873417721519\n",
      "Tripse7enZ\n",
      "397.7894736842105\n",
      "done\n"
     ]
    }
   ],
   "source": [
    "ii = 0\n",
    "px = []\n",
    "py = []\n",
    "for z in friends['friendslist']['friends']:\n",
    "    thisID = z['steamid']\n",
    "    \n",
    "    r3 = requests.get(f'https://api.steampowered.com/ISteamUser/GetPlayerSummaries/v2/?key={apikey}&format=json&steamids={thisID}')\n",
    "    data3 = r3.json()\n",
    "    print(data3['response']['players'][0]['personaname'])\n",
    "    user = data3['response']['players'][0]['personaname']\n",
    "    \n",
    "    r2 = requests.get(f'http://api.steampowered.com/IPlayerService/GetOwnedGames/v0001/?key={apikey}&steamid={thisID}&format=json&include_appinfo=1')\n",
    "    #print(f'http://api.steampowered.com/IPlayerService/GetOwnedGames/v0001/?key={apikey}&steamid={thisID}&format=json&include_appinfo=1')\n",
    "    data2 = r2.json()\n",
    "    \n",
    "    with open(f\"{user}.txt\", \"w\") as f:\n",
    "        f.write(json.dumps(data2))\n",
    "    time.sleep(1)\n",
    "    f.close()\n",
    "    \n",
    "    #print(data2)\n",
    "    y = {}\n",
    "    try:\n",
    "        for x in data2['response']['games']:\n",
    "            y[x['name']] = x['playtime_forever']\n",
    "            #print(f\"{x['name']} :: {x['playtime_forever']}\")\n",
    "            dat = pd.DataFrame(data2['response']['games'])\n",
    "\n",
    "        gameplay = dat[['name','playtime_forever']]\n",
    "        gameplay.columns = ['Game','Play Hours']\n",
    "        gameplay1 = pd.DataFrame(gameplay)\n",
    "        print(gameplay1.mean()['Play Hours'])\n",
    "        playtime = gameplay1.mean()['Play Hours']\n",
    "\n",
    "        px.append(user)\n",
    "        py.append(playtime)\n",
    "    except:\n",
    "        print(' ---no public?')\n",
    "\n",
    "    if (ii > 2):\n",
    "        print(\"done\")\n",
    "        break \n",
    "    ii = ii +1\n",
    "    playtimes = pd.DataFrame(px, py)"
   ]
  },
  {
   "cell_type": "code",
   "execution_count": null,
   "metadata": {},
   "outputs": [],
   "source": [
    "playtimes = playtimes.reset_index()\n",
    "playtimes.columns = ['time', 'user']\n",
    "playtimes = pd.DataFrame(playtimes[['user','time']])\n",
    "playtimes = playtimes.round(0)\n",
    "playtimes = playtimes.sort_values(by='time', ascending=False)\n",
    "\n",
    "playtimes.to_html()\n",
    "\n"
   ]
  },
  {
   "cell_type": "code",
   "execution_count": null,
   "metadata": {},
   "outputs": [],
   "source": [
    "\n",
    "playtimes = playtimes[['time', 'user']].sort_values(by='time', ascending=False)\n",
    "playtimes =  playtimes.reset_index()\n",
    "playtimes.drop('index')"
   ]
  },
  {
   "cell_type": "code",
   "execution_count": null,
   "metadata": {},
   "outputs": [],
   "source": [
    "playtimes"
   ]
  },
  {
   "cell_type": "code",
   "execution_count": null,
   "metadata": {},
   "outputs": [],
   "source": []
  },
  {
   "cell_type": "code",
   "execution_count": null,
   "metadata": {},
   "outputs": [],
   "source": [
    "gameplay.sort_values('Play Hours', ascending=False)"
   ]
  },
  {
   "cell_type": "code",
   "execution_count": null,
   "metadata": {},
   "outputs": [],
   "source": []
  }
 ],
 "metadata": {
  "kernelspec": {
   "display_name": "Python 3",
   "language": "python",
   "name": "python3"
  },
  "language_info": {
   "codemirror_mode": {
    "name": "ipython",
    "version": 3
   },
   "file_extension": ".py",
   "mimetype": "text/x-python",
   "name": "python",
   "nbconvert_exporter": "python",
   "pygments_lexer": "ipython3",
   "version": "3.7.0"
  }
 },
 "nbformat": 4,
 "nbformat_minor": 2
}
